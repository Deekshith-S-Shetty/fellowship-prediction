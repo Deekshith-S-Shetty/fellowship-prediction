{
 "cells": [
  {
   "cell_type": "markdown",
   "metadata": {},
   "source": [
    "# Computing Average Fellow with GitHub REST API\n",
    "This notebook covers the way we fetched data from the [MLH Fellowship Organization](https://github.com/MLH-Fellowship) on GitHub to use for training in our hackathon project.\n",
    "\n",
    "Once data is fetched, we will have the following attributes as a dataframe:"
   ]
  },
  {
   "cell_type": "markdown",
   "metadata": {},
   "source": [
    "'num_followers': INT <br>\n",
    "'num_repos': INT <br>\n",
    "'num_stars': INT <br>\n",
    "'num_forks': INT <br>\n",
    "'num_commits': INT <br>\n",
    "'num_pull_requests': INT <br>\n",
    "'num_issues': INT <br>\n",
    "'num_organizations':INT <br>\n",
    "<Optional>\n",
    "'num_issues': INT <br>\n",
    "'num_organizations': INT <br>"
   ]
  },
  {
   "cell_type": "code",
   "execution_count": null,
   "metadata": {},
   "outputs": [],
   "source": [
    "from collections import defaultdict\n",
    "\n",
    "def compute_average(data):\n",
    "    global CUR_BATCH_AVERAGES\n",
    "    \n",
    "    res = defaultdict(lambda: 0)\n",
    "    num_fellows = len(data)\n",
    "    attributes = ['num_followers', 'num_repos', 'num_stars', 'num_forks', 'num_commits', 'num_pull_requests', 'num_issues', 'num_organizations', 'num_issues', 'num_organizations']\n",
    "    for attribute in attributes:\n",
    "        res[attribute] = sum([x[attribute] for x in data])//num_fellows\n",
    "        \n",
    "    return res # result will be python dictionary.\n"
   ]
  },
  {
   "cell_type": "code",
   "execution_count": null,
   "metadata": {},
   "outputs": [],
   "source": [
    "averages = compute_average(data) # 'data' is placeholder."
   ]
  },
  {
   "cell_type": "code",
   "execution_count": null,
   "metadata": {},
   "outputs": [],
   "source": [
    "# save the list of averages as a json file\n",
    "with open('averages.json', 'w') as json_file:\n",
    "    json.dump(averages, json_file)"
   ]
  }
 ],
 "metadata": {
  "kernelspec": {
   "display_name": "Python 3",
   "language": "python",
   "name": "python3"
  },
  "language_info": {
   "codemirror_mode": {
    "name": "ipython",
    "version": 3
   },
   "file_extension": ".py",
   "mimetype": "text/x-python",
   "name": "python",
   "nbconvert_exporter": "python",
   "pygments_lexer": "ipython3",
   "version": "3.8.2"
  }
 },
 "nbformat": 4,
 "nbformat_minor": 4
}

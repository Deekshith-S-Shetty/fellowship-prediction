{
 "cells": [
  {
   "cell_type": "markdown",
   "metadata": {},
   "source": [
    "# Data Fetching with GitHub REST API\n",
    "This notebook covers the way we fetched data from the [MLH Fellowship Organization](https://github.com/MLH-Fellowship) on GitHub to use for training in our hackathon project."
   ]
  },
  {
   "cell_type": "code",
   "execution_count": 1,
   "metadata": {},
   "outputs": [],
   "source": [
    "import requests # for API calls\n",
    "import json # for JSON file type storage\n",
    "import time # for API calls\n",
    "import os # for the API token\n",
    "\n",
    "token = os.getenv(\"GITHUB_TOKEN\")\n",
    "headers = {'Authorization': 'token {}'.format(token)}"
   ]
  },
  {
   "cell_type": "markdown",
   "metadata": {},
   "source": [
    "### Get the members of the organization on GitHub and save them to a JSON file\n"
   ]
  },
  {
   "cell_type": "code",
   "execution_count": 2,
   "metadata": {},
   "outputs": [],
   "source": [
    "# fetches all github users who are members of the MLH Fellowship organization on GitHub\n",
    "def get_member_list(organization_name):\n",
    "    members = []\n",
    "    page_number = 1\n",
    "    \n",
    "    # iterate over pages of users, saving them to one pool\n",
    "    while True:\n",
    "        url = \"https://api.github.com/orgs/{}/members?per_page=100&page={}\".format(organization_name, page_number)\n",
    "        print(\"Calling URL: {}\".format(url))\n",
    "        response = requests.get(url, headers=headers)\n",
    "        \n",
    "        member_list = response.json()\n",
    "        members += member_list\n",
    "        \n",
    "        print(\"There are {} in this URL call\".format(len(member_list)))\n",
    "        if len(member_list) == 0:\n",
    "            break\n",
    "        else:\n",
    "            page_number += 1\n",
    "            \n",
    "    return members"
   ]
  },
  {
   "cell_type": "code",
   "execution_count": 3,
   "metadata": {},
   "outputs": [
    {
     "name": "stdout",
     "output_type": "stream",
     "text": [
      "Calling URL: https://api.github.com/orgs/MLH-Fellowship/members?per_page=100&page=1\n",
      "There are 100 in this URL call\n",
      "Calling URL: https://api.github.com/orgs/MLH-Fellowship/members?per_page=100&page=2\n",
      "There are 100 in this URL call\n",
      "Calling URL: https://api.github.com/orgs/MLH-Fellowship/members?per_page=100&page=3\n",
      "There are 100 in this URL call\n",
      "Calling URL: https://api.github.com/orgs/MLH-Fellowship/members?per_page=100&page=4\n",
      "There are 100 in this URL call\n",
      "Calling URL: https://api.github.com/orgs/MLH-Fellowship/members?per_page=100&page=5\n",
      "There are 100 in this URL call\n",
      "Calling URL: https://api.github.com/orgs/MLH-Fellowship/members?per_page=100&page=6\n",
      "There are 100 in this URL call\n",
      "Calling URL: https://api.github.com/orgs/MLH-Fellowship/members?per_page=100&page=7\n",
      "There are 77 in this URL call\n",
      "Calling URL: https://api.github.com/orgs/MLH-Fellowship/members?per_page=100&page=8\n",
      "There are 0 in this URL call\n"
     ]
    }
   ],
   "source": [
    "members = get_member_list(\"MLH-Fellowship\")"
   ]
  },
  {
   "cell_type": "code",
   "execution_count": 4,
   "metadata": {},
   "outputs": [
    {
     "data": {
      "text/plain": [
       "[{'login': '1tracy',\n",
       "  'id': 55264469,\n",
       "  'node_id': 'MDQ6VXNlcjU1MjY0NDY5',\n",
       "  'avatar_url': 'https://avatars.githubusercontent.com/u/55264469?v=4',\n",
       "  'gravatar_id': '',\n",
       "  'url': 'https://api.github.com/users/1tracy',\n",
       "  'html_url': 'https://github.com/1tracy',\n",
       "  'followers_url': 'https://api.github.com/users/1tracy/followers',\n",
       "  'following_url': 'https://api.github.com/users/1tracy/following{/other_user}',\n",
       "  'gists_url': 'https://api.github.com/users/1tracy/gists{/gist_id}',\n",
       "  'starred_url': 'https://api.github.com/users/1tracy/starred{/owner}{/repo}',\n",
       "  'subscriptions_url': 'https://api.github.com/users/1tracy/subscriptions',\n",
       "  'organizations_url': 'https://api.github.com/users/1tracy/orgs',\n",
       "  'repos_url': 'https://api.github.com/users/1tracy/repos',\n",
       "  'events_url': 'https://api.github.com/users/1tracy/events{/privacy}',\n",
       "  'received_events_url': 'https://api.github.com/users/1tracy/received_events',\n",
       "  'type': 'User',\n",
       "  'site_admin': False}]"
      ]
     },
     "execution_count": 4,
     "metadata": {},
     "output_type": "execute_result"
    }
   ],
   "source": [
    "members[:1] # see the first user"
   ]
  },
  {
   "cell_type": "code",
   "execution_count": 5,
   "metadata": {},
   "outputs": [
    {
     "data": {
      "text/plain": [
       "677"
      ]
     },
     "execution_count": 5,
     "metadata": {},
     "output_type": "execute_result"
    }
   ],
   "source": [
    "len(members) # there are 677 members in the organization"
   ]
  },
  {
   "cell_type": "code",
   "execution_count": 6,
   "metadata": {},
   "outputs": [],
   "source": [
    "# save the list of members as a json file\n",
    "with open('members.json', 'w') as json_file:\n",
    "    json.dump(members, json_file)"
   ]
  },
  {
   "cell_type": "code",
   "execution_count": null,
   "metadata": {},
   "outputs": [],
   "source": []
  }
 ],
 "metadata": {
  "kernelspec": {
   "display_name": "Python 3",
   "language": "python",
   "name": "python3"
  },
  "language_info": {
   "codemirror_mode": {
    "name": "ipython",
    "version": 3
   },
   "file_extension": ".py",
   "mimetype": "text/x-python",
   "name": "python",
   "nbconvert_exporter": "python",
   "pygments_lexer": "ipython3",
   "version": "3.8.2"
  }
 },
 "nbformat": 4,
 "nbformat_minor": 5
}

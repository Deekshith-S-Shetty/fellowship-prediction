{
 "cells": [
  {
   "cell_type": "markdown",
   "id": "75632767",
   "metadata": {},
   "source": [
    "# Data Fetching with GitHub REST API\n",
    "This notebook covers the way we fetched data from the [MLH Fellowship Organization](https://github.com/MLH-Fellowship) on GitHub to use for training in our hackathon project.\n",
    "\n",
    "Table of Content:\n",
    "- [List of Members](#first)\n",
    "- [Total Commits](#second)\n",
    "- [Followers and Open Repos](#third)\n",
    "- [Stars and Forks on Repos](#fourth)\n",
    "- [Number of Organizations](#fifth)\n",
    "- [Number of Issues and Contributions](#sixth)"
   ]
  },
  {
   "cell_type": "code",
   "execution_count": 17,
   "id": "1f99bc47",
   "metadata": {},
   "outputs": [],
   "source": [
    "import requests # for API calls\n",
    "import json # for JSON file type storage\n",
    "import time # for API calls\n",
    "import os # for the API token\n",
    "\n",
    "token = os.getenv(\"GITHUB_TOKEN\") # MUST HAVE PERSONAL ACCESS TOKEN SETUP\n",
    "headers = {'Authorization': 'token {}'.format(token)}\n",
    "base_url = \"https://api.github.com\""
   ]
  },
  {
   "cell_type": "markdown",
   "id": "1146e5a8",
   "metadata": {},
   "source": [
    "## Get the members of the organization on GitHub and save them to a JSON file\n",
    "### Member List <a class=\"anchor\" id=\"first\"></a>"
   ]
  },
  {
   "cell_type": "code",
   "execution_count": 2,
   "id": "dae6605e",
   "metadata": {},
   "outputs": [],
   "source": [
    "# fetches all github users who are members of the MLH Fellowship organization on GitHub\n",
    "def get_member_list(organization_name):\n",
    "    members = []\n",
    "    page_number = 1\n",
    "    \n",
    "    # iterate over pages of users, saving them to one pool\n",
    "    while True:\n",
    "        url = \"{}/orgs/{}/members?per_page=100&page={}\".format(base_url, organization_name, page_number)\n",
    "        print(\"Calling URL: {}\".format(url))\n",
    "        response = requests.get(url, headers=headers)\n",
    "        \n",
    "        member_list = response.json()\n",
    "        members += member_list\n",
    "        \n",
    "        print(\"There are {} in this URL call\".format(len(member_list)))\n",
    "        if len(member_list) == 0:\n",
    "            break\n",
    "        else:\n",
    "            page_number += 1\n",
    "            \n",
    "    return members"
   ]
  },
  {
   "cell_type": "code",
   "execution_count": 3,
   "id": "15713ef3",
   "metadata": {},
   "outputs": [],
   "source": [
    "# members = get_member_list(\"MLH-Fellowship\")\n",
    "with open('members.json', 'r') as json_file:\n",
    "    members = json.load(json_file)"
   ]
  },
  {
   "cell_type": "code",
   "execution_count": 4,
   "id": "2e2835d0",
   "metadata": {},
   "outputs": [
    {
     "data": {
      "text/plain": [
       "[{'login': '1tracy',\n",
       "  'id': 55264469,\n",
       "  'node_id': 'MDQ6VXNlcjU1MjY0NDY5',\n",
       "  'avatar_url': 'https://avatars.githubusercontent.com/u/55264469?v=4',\n",
       "  'gravatar_id': '',\n",
       "  'url': 'https://api.github.com/users/1tracy',\n",
       "  'html_url': 'https://github.com/1tracy',\n",
       "  'followers_url': 'https://api.github.com/users/1tracy/followers',\n",
       "  'following_url': 'https://api.github.com/users/1tracy/following{/other_user}',\n",
       "  'gists_url': 'https://api.github.com/users/1tracy/gists{/gist_id}',\n",
       "  'starred_url': 'https://api.github.com/users/1tracy/starred{/owner}{/repo}',\n",
       "  'subscriptions_url': 'https://api.github.com/users/1tracy/subscriptions',\n",
       "  'organizations_url': 'https://api.github.com/users/1tracy/orgs',\n",
       "  'repos_url': 'https://api.github.com/users/1tracy/repos',\n",
       "  'events_url': 'https://api.github.com/users/1tracy/events{/privacy}',\n",
       "  'received_events_url': 'https://api.github.com/users/1tracy/received_events',\n",
       "  'type': 'User',\n",
       "  'site_admin': False}]"
      ]
     },
     "execution_count": 4,
     "metadata": {},
     "output_type": "execute_result"
    }
   ],
   "source": [
    "members[:1] # see the first user"
   ]
  },
  {
   "cell_type": "code",
   "execution_count": 5,
   "id": "3a89450f",
   "metadata": {},
   "outputs": [
    {
     "data": {
      "text/plain": [
       "677"
      ]
     },
     "execution_count": 5,
     "metadata": {},
     "output_type": "execute_result"
    }
   ],
   "source": [
    "len(members) # there are 677 members in the organization"
   ]
  },
  {
   "cell_type": "code",
   "execution_count": 6,
   "id": "d3eb1c4d",
   "metadata": {},
   "outputs": [],
   "source": [
    "# save the list of members as a json file\n",
    "with open('members.json', 'w') as json_file:\n",
    "    json.dump(members, json_file)"
   ]
  },
  {
   "cell_type": "markdown",
   "id": "1d496c59",
   "metadata": {},
   "source": [
    "## Get more specific user data for each user and save them to a JSON file\n",
    "### Total Commits <a class=\"anchor\" id=\"second\"></a>"
   ]
  },
  {
   "cell_type": "code",
   "execution_count": 29,
   "id": "4a37f145",
   "metadata": {},
   "outputs": [],
   "source": [
    "# Gets all of the commits the user commited\n",
    "def get_total_commits(username):\n",
    "    url = \"{}/search/commits?q=author:{}\".format(base_url, username)\n",
    "    # requires a special header with an accept (search still in preview)\n",
    "    headers = {\"Content-Type\": \"application/json\",\n",
    "        \"Accept\": \"application/vnd.github.cloak-preview\",\n",
    "        \"Authorization\": 'token {}'.format(token)}\n",
    "    request = requests.get(url, headers=headers)\n",
    "    return request.json()['total_count']"
   ]
  },
  {
   "cell_type": "code",
   "execution_count": 25,
   "id": "76745ae2",
   "metadata": {},
   "outputs": [
    {
     "name": "stdout",
     "output_type": "stream",
     "text": [
      "I have a total of 736 commits\n"
     ]
    }
   ],
   "source": [
    "total = get_total_commits(\"dtemir\")\n",
    "print(\"I have a total of {} commits\".format(total))"
   ]
  },
  {
   "cell_type": "markdown",
   "id": "a5e82300",
   "metadata": {},
   "source": [
    "### Followers and Open Repos <a class=\"anchor\" id=\"third\"></a>"
   ]
  },
  {
   "cell_type": "code",
   "execution_count": 26,
   "id": "a8ba0267",
   "metadata": {},
   "outputs": [],
   "source": [
    "# Gets the number of followers and repositories the user has\n",
    "def get_followers_and_repos(username):\n",
    "    url = \"{}/users/{}\".format(base_url, username)\n",
    "    request = requests.get(url, headers=headers)\n",
    "    return request.json()['followers'], request.json()['public_repos']"
   ]
  },
  {
   "cell_type": "code",
   "execution_count": 27,
   "id": "fd048507",
   "metadata": {},
   "outputs": [
    {
     "name": "stdout",
     "output_type": "stream",
     "text": [
      "I have 17 followers and 13 public repos\n"
     ]
    }
   ],
   "source": [
    "fl, re = get_followers_and_repos(\"dtemir\")\n",
    "print(\"I have {} followers and {} public repos\".format(fl, re))"
   ]
  },
  {
   "cell_type": "markdown",
   "id": "d9861864",
   "metadata": {},
   "source": [
    "### Stars and Forks on Repos <a class=\"anchor\" id=\"fourth\"></a>"
   ]
  },
  {
   "cell_type": "code",
   "execution_count": 46,
   "id": "10b461b3",
   "metadata": {},
   "outputs": [],
   "source": [
    "# Gets the number of stars and forks the user has in their repositories\n",
    "def get_stars_and_forks(username):\n",
    "    url = \"{}/users/{}/repos\".format(base_url, username)\n",
    "    request = requests.get(url, headers=headers)\n",
    "    repositories = request.json()\n",
    "    \n",
    "    stars, forks = 0, 0\n",
    "    for repository in repositories:\n",
    "        stars += repository[\"stargazers_count\"]\n",
    "        forks += repository[\"forks_count\"]\n",
    "    \n",
    "    return stars, forks"
   ]
  },
  {
   "cell_type": "code",
   "execution_count": 47,
   "id": "5194604a",
   "metadata": {},
   "outputs": [],
   "source": [
    "stars, forks = get_stars_and_forks(\"dtemir\")\n",
    "print(\"I have {} stars and {} forks on my repos\".format(stars, forks))"
   ]
  },
  {
   "cell_type": "markdown",
   "id": "59d02840",
   "metadata": {},
   "source": [
    "### Number of Organizations  <a class=\"anchor\" id=\"fifth\"></a>"
   ]
  },
  {
   "cell_type": "code",
   "execution_count": 53,
   "id": "ef82c71c",
   "metadata": {},
   "outputs": [],
   "source": [
    "# Gets the number of organizations the user is a part of and their names\n",
    "def get_organizations(username):\n",
    "    url = \"{}/users/{}/orgs\".format(base_url, username)\n",
    "    request = requests.get(url, headers=headers)\n",
    "    organizations = request.json()\n",
    "    \n",
    "    number, names = 0, []\n",
    "    for organization in organizations:\n",
    "        number += 1\n",
    "        names.append(organization[\"login\"])\n",
    "    \n",
    "    return number, names"
   ]
  },
  {
   "cell_type": "code",
   "execution_count": 54,
   "id": "3a4c20eb",
   "metadata": {},
   "outputs": [
    {
     "name": "stdout",
     "output_type": "stream",
     "text": [
      "I'm a part of 2 organizations named ['ProteinDesignLab', 'MLH-Fellowship']\n"
     ]
    }
   ],
   "source": [
    "orgs, names = get_organizations(\"dtemir\")\n",
    "print(\"I'm a part of {} organizations named {}\".format(orgs, names))"
   ]
  },
  {
   "cell_type": "markdown",
   "id": "75d81f7d",
   "metadata": {},
   "source": [
    "### Number of Issues and Contributions <a class=\"anchor\" id=\"sixth\"></a>"
   ]
  },
  {
   "cell_type": "code",
   "execution_count": 61,
   "id": "84c9baf3",
   "metadata": {},
   "outputs": [],
   "source": [
    "# Gets the number of Issues and PRs the user created in repositories\n",
    "def get_issues_and_contributions(username):\n",
    "    url_issues = \"{}/search/issues?q=user:{}\".format(base_url, username)\n",
    "    url_contributions = \"{}/search/issues?q=type:pr+user:{}\".format(base_url, username)\n",
    "    request_issues = requests.get(url_issues, headers=headers)\n",
    "    request_contributions = requests.get(url_contributions, headers=headers)\n",
    "    \n",
    "    return request_issues.json()[\"total_count\"], request_contributions.json()[\"total_count\"]"
   ]
  },
  {
   "cell_type": "code",
   "execution_count": 62,
   "id": "9c735e17",
   "metadata": {},
   "outputs": [
    {
     "name": "stdout",
     "output_type": "stream",
     "text": [
      "I have contributed 8 issues and helped 6 outside projects\n"
     ]
    }
   ],
   "source": [
    "issues, contributions = get_issues_and_prs(\"dtemir\")\n",
    "print(\"I have contributed {} issues and helped {} outside projects\".format(issues, contributions))"
   ]
  },
  {
   "cell_type": "code",
   "execution_count": null,
   "id": "8bcb91d2",
   "metadata": {},
   "outputs": [],
   "source": []
  }
 ],
 "metadata": {
  "kernelspec": {
   "display_name": "Python 3",
   "language": "python",
   "name": "python3"
  },
  "language_info": {
   "codemirror_mode": {
    "name": "ipython",
    "version": 3
   },
   "file_extension": ".py",
   "mimetype": "text/x-python",
   "name": "python",
   "nbconvert_exporter": "python",
   "pygments_lexer": "ipython3",
   "version": "3.8.10"
  }
 },
 "nbformat": 4,
 "nbformat_minor": 5
}
